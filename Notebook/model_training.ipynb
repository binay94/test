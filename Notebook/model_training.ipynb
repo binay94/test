{
 "cells": [
  {
   "cell_type": "code",
   "execution_count": 1,
   "metadata": {},
   "outputs": [],
   "source": [
    "# Import necessary Modules\n",
    "import pandas as pd\n",
    "from sklearn.model_selection import train_test_split\n",
    "from sklearn.impute import SimpleImputer\n",
    "from sklearn.pipeline import Pipeline\n",
    "from sklearn.preprocessing import StandardScaler, OneHotEncoder\n",
    "from sklearn.compose import ColumnTransformer\n",
    "from sklearn.linear_model import LogisticRegression\n",
    "from sklearn.ensemble import RandomForestClassifier\n",
    "from sklearn.svm import SVC\n",
    "from sklearn.tree import DecisionTreeClassifier\n",
    "from sklearn.metrics import classification_report, accuracy_score\n",
    "import warnings\n",
    "warnings.filterwarnings(\"ignore\", category=FutureWarning)"
   ]
  },
  {
   "cell_type": "code",
   "execution_count": 2,
   "metadata": {},
   "outputs": [],
   "source": [
    "# Load the dataset\n",
    "data = pd.read_csv('ObesityDataSet.csv')  \n",
    "# Separate features and target variable\n",
    "X = data.drop(labels=['NObeyesdad'], axis=1)  # Features\n",
    "y = data['NObeyesdad'] #Target"
   ]
  },
  {
   "cell_type": "code",
   "execution_count": 3,
   "metadata": {},
   "outputs": [],
   "source": [
    "# Separating numerical and categorical features\n",
    "categorical_cols = X.select_dtypes(include='O').columns\n",
    "numerical_cols = X.select_dtypes(exclude='O').columns"
   ]
  },
  {
   "cell_type": "code",
   "execution_count": 4,
   "metadata": {},
   "outputs": [],
   "source": [
    "#creating pipeline\n",
    "# Numerical pipeline\n",
    "num_pipeline = Pipeline([\n",
    "    ('imputer', SimpleImputer(strategy='median')),\n",
    "    ('scalar', StandardScaler())\n",
    "])\n",
    "\n",
    "# Categorical pipeline\n",
    "cat_pipeline = Pipeline([\n",
    "    ('imputer', SimpleImputer(strategy='most_frequent')),\n",
    "    ('onehot', OneHotEncoder())\n",
    "])\n",
    "\n",
    "# Combining categorical and numerical pipelines\n",
    "preprocessor = ColumnTransformer(transformers=[\n",
    "    ('num_pipeline', num_pipeline, numerical_cols),\n",
    "    ('cat_pipeline', cat_pipeline, categorical_cols)\n",
    "])\n"
   ]
  },
  {
   "cell_type": "code",
   "execution_count": 5,
   "metadata": {},
   "outputs": [],
   "source": [
    "# Preprocess the data\n",
    "X_preprocessed = pd.DataFrame(preprocessor.fit_transform(X))"
   ]
  },
  {
   "cell_type": "code",
   "execution_count": 6,
   "metadata": {},
   "outputs": [],
   "source": [
    "\n",
    "# Splitting the Data \n",
    "X_train, X_test, y_train, y_test = train_test_split(X_preprocessed, y, test_size=0.3, random_state=42)"
   ]
  },
  {
   "cell_type": "code",
   "execution_count": 7,
   "metadata": {},
   "outputs": [],
   "source": [
    "# Model Training and Evaluation\n",
    "models = {\n",
    "    'Logistic Regression': LogisticRegression(max_iter=1000),\n",
    "    'Random Forest': RandomForestClassifier(),\n",
    "    'SVM': SVC(),\n",
    "    'Decission Tree': DecisionTreeClassifier()\n",
    "}"
   ]
  },
  {
   "cell_type": "code",
   "execution_count": 8,
   "metadata": {},
   "outputs": [],
   "source": [
    "results = {}\n",
    "for model_name, model in models.items():\n",
    "    # Model training\n",
    "    model.fit(X_train, y_train)\n",
    "\n",
    "    # Model evaluation\n",
    "    y_pred = model.predict(X_test)\n",
    "    accuracy = round(accuracy_score(y_test, y_pred)*100,2)\n",
    "    report = classification_report(y_test, y_pred)\n",
    "\n",
    "    results[model_name] = {'model': model, 'accuracy': accuracy, 'classification_report': report}"
   ]
  },
  {
   "cell_type": "code",
   "execution_count": 9,
   "metadata": {},
   "outputs": [
    {
     "name": "stdout",
     "output_type": "stream",
     "text": [
      "==================================================\n",
      "Logistic Regression Accuracy: 87.22%\n",
      "Random Forest Accuracy: 92.74%\n",
      "SVM Accuracy: 91.80%\n",
      "Decission Tree Accuracy: 91.01%\n",
      "==================================================\n",
      "Best Model: Random Forest\n",
      "Accuracy: 92.74 %\n",
      "Classification Report:\n",
      "=================================================================\n",
      "                     precision    recall  f1-score   support\n",
      "\n",
      "Insufficient_Weight       0.95      0.94      0.95        86\n",
      "      Normal_Weight       0.77      0.92      0.84        93\n",
      "     Obesity_Type_I       0.97      0.92      0.94       102\n",
      "    Obesity_Type_II       0.97      0.99      0.98        88\n",
      "   Obesity_Type_III       1.00      0.99      0.99        98\n",
      " Overweight_Level_I       0.93      0.81      0.87        88\n",
      "Overweight_Level_II       0.92      0.91      0.92        79\n",
      "\n",
      "           accuracy                           0.93       634\n",
      "          macro avg       0.93      0.93      0.93       634\n",
      "       weighted avg       0.93      0.93      0.93       634\n",
      "\n",
      "=================================================================\n",
      "\n"
     ]
    }
   ],
   "source": [
    "# Display accuracy score for all models\n",
    "print(\"=\"*50)    \n",
    "for model_name, result in results.items():\n",
    "    print(f'{model_name} Accuracy: {result[\"accuracy\"]:.2f}%')\n",
    "print(\"=\"*50)\n",
    "\n",
    "# Model Selection\n",
    "best_model_name = max(results, key=lambda k: results[k]['accuracy'])\n",
    "best_model = results[best_model_name]['model']\n",
    "print(f'Best Model: {best_model_name}')\n",
    "print(f'Accuracy: {results[best_model_name][\"accuracy\"]:.2f} %')\n",
    "print(f'Classification Report:\\n{\"=\"*65}\\n{results[best_model_name][\"classification_report\"]}\\n{\"=\"*65}\\n')"
   ]
  }
 ],
 "metadata": {
  "kernelspec": {
   "display_name": "base",
   "language": "python",
   "name": "python3"
  },
  "language_info": {
   "codemirror_mode": {
    "name": "ipython",
    "version": 3
   },
   "file_extension": ".py",
   "mimetype": "text/x-python",
   "name": "python",
   "nbconvert_exporter": "python",
   "pygments_lexer": "ipython3",
   "version": "3.10.9"
  },
  "orig_nbformat": 4
 },
 "nbformat": 4,
 "nbformat_minor": 2
}
